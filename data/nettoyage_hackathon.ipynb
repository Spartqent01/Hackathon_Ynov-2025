{
  "cells": [
    {
      "cell_type": "markdown",
      "metadata": {
        "id": "header"
      },
      "source": [
        "# Nettoyage du Dataset Baby-foot Ynov\n",
        "\n",
        "Ce notebook effectue le nettoyage et la préparation des données de matchs de baby-foot pour l'analyse.\n",
        "\n",
        "## Objectifs\n",
        "- Nettoyer les données brutes\n",
        "- Standardiser les formats\n",
        "- Créer des features pour l'analyse\n",
        "- Exporter un dataset propre"
      ]
    },
    {
      "cell_type": "markdown",
      "metadata": {
        "id": "install"
      },
      "source": [
        "## 1. Installation des dépendances"
      ]
    },
    {
      "cell_type": "code",
      "execution_count": 31,
      "metadata": {
        "colab": {
          "base_uri": "https://localhost:8080/"
        },
        "id": "install-code",
        "outputId": "b32c22d5-1e2b-4e21-e5f6-c4bfada16008"
      },
      "outputs": [
        {
          "output_type": "stream",
          "name": "stdout",
          "text": [
            "Requirement already satisfied: word2number in /usr/local/lib/python3.12/dist-packages (1.1)\n"
          ]
        }
      ],
      "source": [
        "!pip install word2number"
      ]
    },
    {
      "cell_type": "markdown",
      "metadata": {
        "id": "imports"
      },
      "source": [
        "## 2. Import des bibliothèques"
      ]
    },
    {
      "cell_type": "code",
      "execution_count": 32,
      "metadata": {
        "colab": {
          "base_uri": "https://localhost:8080/"
        },
        "id": "imports-code",
        "outputId": "446c089e-e1ff-42e2-a9d2-074a480c382c"
      },
      "outputs": [
        {
          "output_type": "stream",
          "name": "stdout",
          "text": [
            "Drive already mounted at /content/drive; to attempt to forcibly remount, call drive.mount(\"/content/drive\", force_remount=True).\n"
          ]
        }
      ],
      "source": [
        "import pandas as pd\n",
        "import numpy as np\n",
        "from dateutil import parser\n",
        "import re\n",
        "from word2number import w2n\n",
        "from datetime import datetime\n",
        "\n",
        "# Montage de Google Drive (pour Colab)\n",
        "from google.colab import drive\n",
        "drive.mount('/content/drive')"
      ]
    },
    {
      "cell_type": "markdown",
      "metadata": {
        "id": "load"
      },
      "source": [
        "## 3. Chargement du dataset"
      ]
    },
    {
      "cell_type": "code",
      "execution_count": 33,
      "metadata": {
        "colab": {
          "base_uri": "https://localhost:8080/"
        },
        "id": "load-code",
        "outputId": "5729e83f-2c3a-420e-be20-08693d4cea1a"
      },
      "outputs": [
        {
          "output_type": "stream",
          "name": "stderr",
          "text": [
            "/tmp/ipython-input-2000172189.py:4: DtypeWarning: Columns (10,22,23) have mixed types. Specify dtype option on import or set low_memory=False.\n",
            "  df = pd.read_csv(FILE_PATH, sep=SEPARATEUR)\n"
          ]
        },
        {
          "output_type": "stream",
          "name": "stdout",
          "text": [
            "   game_id      game_date               location table_id table_condition  \\\n",
            "0  G015295  Feb 06st 2023          Ynov Toulouse      T05     beer stains   \n",
            "1  G023800     24-03-2023  Cafeteria (1st floor)      T07            worn   \n",
            "2  G023577     2025-01-13               Gym Hall      T26       scratched   \n",
            "3  G020644    Nov 11 2025      Salle Polyvalente      T21            worn   \n",
            "4  G011677      30 Sep 23     Campus - Cafeteria      T26   missing screw   \n",
            "\n",
            "      ball_type                      music_playing          referee  \\\n",
            "0           NaN  Spotify: Queen - We Will Rock You         Paul Kim   \n",
            "1           NaN                     Indie playlist              NaN   \n",
            "2           NaN  Spotify: Queen - We Will Rock You     Lena Clement   \n",
            "3     mini ball                            EDM mix  Isabella Girard   \n",
            "4  trainer ball                         Oldies 80s              yes   \n",
            "\n",
            "  game_duration final_score_red  ... possession_time mood    player_comment  \\\n",
            "0         12.45               0  ...            9:36    1        ref biased   \n",
            "1          8.57              10  ...             NaN    🙂               NaN   \n",
            "2          17.2               2  ...         5.09min    2               NaN   \n",
            "3          5.18               6  ...             NaN    3  team spirit high   \n",
            "4          6min               3  ...             177    😂         rage quit   \n",
            "\n",
            "  team_color is_substitute ping_ms          notes duplicate_flag misc  \\\n",
            "0        Red           yes     185        injured            NaN  NaN   \n",
            "1       Blue           yes     NaN            NaN              0    -   \n",
            "2          R            no     NaN  double booked              0  NaN   \n",
            "3          B         maybe     NaN  double booked            NaN    -   \n",
            "4        Red           yes     NaN            NaN            NaN  NaN   \n",
            "\n",
            "            created_at  \n",
            "0  2025-10-02T10:41:54  \n",
            "1  2025-10-02T10:41:55  \n",
            "2  2025-10-02T10:41:55  \n",
            "3  2025-10-02T10:41:54  \n",
            "4  2025-10-02T10:41:54  \n",
            "\n",
            "[5 rows x 35 columns]\n",
            "<class 'pandas.core.frame.DataFrame'>\n",
            "RangeIndex: 100200 entries, 0 to 100199\n",
            "Data columns (total 35 columns):\n",
            " #   Column                 Non-Null Count   Dtype \n",
            "---  ------                 --------------   ----- \n",
            " 0   game_id                100200 non-null  object\n",
            " 1   game_date              100200 non-null  object\n",
            " 2   location               100200 non-null  object\n",
            " 3   table_id               100200 non-null  object\n",
            " 4   table_condition        100200 non-null  object\n",
            " 5   ball_type              77675 non-null   object\n",
            " 6   music_playing          90126 non-null   object\n",
            " 7   referee                40117 non-null   object\n",
            " 8   game_duration          100200 non-null  object\n",
            " 9   final_score_red        100200 non-null  object\n",
            " 10  final_score_blue       95294 non-null   object\n",
            " 11  winner                 95531 non-null   object\n",
            " 12  attendance_count       88988 non-null   object\n",
            " 13  season                 100200 non-null  object\n",
            " 14  recorded_by            100200 non-null  object\n",
            " 15  rating_raw             100200 non-null  object\n",
            " 16  player_id              100200 non-null  object\n",
            " 17  player_name            100200 non-null  object\n",
            " 18  player_canonical_name  100200 non-null  object\n",
            " 19  player_age             60313 non-null   object\n",
            " 20  player_role            100200 non-null  object\n",
            " 21  player_goals           100200 non-null  object\n",
            " 22  player_own_goals       100200 non-null  object\n",
            " 23  player_assists         100200 non-null  object\n",
            " 24  player_saves           100200 non-null  int64 \n",
            " 25  possession_time        75148 non-null   object\n",
            " 26  mood                   88970 non-null   object\n",
            " 27  player_comment         83613 non-null   object\n",
            " 28  team_color             100200 non-null  object\n",
            " 29  is_substitute          75024 non-null   object\n",
            " 30  ping_ms                50024 non-null   object\n",
            " 31  notes                  66813 non-null   object\n",
            " 32  duplicate_flag         60333 non-null   object\n",
            " 33  misc                   40072 non-null   object\n",
            " 34  created_at             100200 non-null  object\n",
            "dtypes: int64(1), object(34)\n",
            "memory usage: 26.8+ MB\n",
            "None\n",
            "\n",
            "Dimensions du dataset : (100200, 35)\n"
          ]
        }
      ],
      "source": [
        "FILE_PATH = '/content/drive/MyDrive/babyfoot_dataset.csv'\n",
        "SEPARATEUR = ','\n",
        "\n",
        "df = pd.read_csv(FILE_PATH, sep=SEPARATEUR)\n",
        "\n",
        "print(df.head(5))\n",
        "print(df.info())\n",
        "print(f\"\\nDimensions du dataset : {df.shape}\")"
      ]
    },
    {
      "cell_type": "markdown",
      "metadata": {
        "id": "duplicates"
      },
      "source": [
        "## 4. Suppression des doublons et valeurs manquantes"
      ]
    },
    {
      "cell_type": "code",
      "execution_count": 34,
      "metadata": {
        "colab": {
          "base_uri": "https://localhost:8080/"
        },
        "id": "duplicates-code",
        "outputId": "68a9fc0b-be35-4d3d-96f0-cbbd419e4eea"
      },
      "outputs": [
        {
          "output_type": "stream",
          "name": "stdout",
          "text": [
            "Après nettoyage des IDs et doublons : 100000 lignes restantes\n"
          ]
        }
      ],
      "source": [
        "# Suppression des lignes dont les IDs critiques manquent\n",
        "df.dropna(subset=['player_id', 'game_id'], inplace=True)\n",
        "\n",
        "# Suppression des doublons\n",
        "df.drop_duplicates(subset=['game_id', 'player_id'], inplace=True)\n",
        "\n",
        "# Nettoyage global\n",
        "df = df.replace('�', '', regex=True)\n",
        "\n",
        "print(f\"Après nettoyage des IDs et doublons : {df.shape[0]} lignes restantes\")"
      ]
    },
    {
      "cell_type": "markdown",
      "metadata": {
        "id": "scores"
      },
      "source": [
        "## 5. Nettoyage des scores\n",
        "\n",
        "Gestion des différents formats de scores :\n",
        "- Format 'x - y' dans une seule colonne\n",
        "- Scores séparés dans deux colonnes\n",
        "- Validation : scores entre 0 et 10"
      ]
    },
    {
      "cell_type": "code",
      "execution_count": 35,
      "metadata": {
        "colab": {
          "base_uri": "https://localhost:8080/"
        },
        "id": "scores-code",
        "outputId": "9abebdd2-1bff-45c6-90d1-bb1904828301"
      },
      "outputs": [
        {
          "output_type": "stream",
          "name": "stdout",
          "text": [
            "✓ Scores nettoyés\n",
            "Lignes avec scores manquants : 0\n"
          ]
        }
      ],
      "source": [
        "def clean_final_score(row):\n",
        "    \"\"\"Nettoie les scores red et blue quand le format 'x - y' est dans final_score_red.\"\"\"\n",
        "    s_red = row['final_score_red']\n",
        "    s_blue = row['final_score_blue']\n",
        "\n",
        "    if pd.isna(s_red):\n",
        "        return pd.Series([pd.NA, pd.NA])\n",
        "\n",
        "    s_red = str(s_red).strip().lower()\n",
        "    s_blue = str(s_blue).strip().lower()\n",
        "\n",
        "    # Si format 'x - y' détecté\n",
        "    if ' - ' in s_red:\n",
        "        parts = s_red.split(' - ')\n",
        "        red = int(float(parts[0].strip()))\n",
        "        blue = int(float(parts[1].strip()))\n",
        "    else:\n",
        "        try:\n",
        "            red = int(float(s_red))\n",
        "            blue = int(float(row['final_score_blue'])) if not pd.isna(row['final_score_blue']) else pd.NA\n",
        "        except:\n",
        "            return pd.Series([pd.NA, pd.NA])\n",
        "\n",
        "    # Règle métier : score entre 0 et 10\n",
        "    if not (0 <= red <= 10 and (blue is pd.NA or 0 <= blue <= 10)):\n",
        "        return pd.Series([pd.NA, pd.NA])\n",
        "\n",
        "    return pd.Series([red, blue])\n",
        "\n",
        "# Application\n",
        "df[['final_score_red','final_score_blue']] = df.apply(clean_final_score, axis=1).astype('Int64')\n",
        "\n",
        "print(\"✓ Scores nettoyés\")\n",
        "print(f\"Lignes avec scores manquants : {df[df['final_score_red'].isna()].shape[0]}\")"
      ]
    },
    {
      "cell_type": "markdown",
      "metadata": {
        "id": "colors"
      },
      "source": [
        "## 6. Standardisation des couleurs d'équipe et du gagnant"
      ]
    },
    {
      "cell_type": "code",
      "execution_count": 36,
      "metadata": {
        "colab": {
          "base_uri": "https://localhost:8080/"
        },
        "id": "colors-code",
        "outputId": "7d030706-3494-4330-c1be-f96e7d8008b3"
      },
      "outputs": [
        {
          "output_type": "stream",
          "name": "stdout",
          "text": [
            "Valeurs uniques avant standardisation :\n",
            "team_color: ['Red' 'Blue' 'R' 'B' '🔴' '🔵' 'blue' 'red']\n",
            "winner: ['Blue' 'red' 'Bleu' 'blue' 'Red' nan 'R' 'B' 'BLUE' 'Rouge' 'draw' 'TIE'\n",
            " 'RED' 'tie']\n",
            "\n",
            "✓ Couleurs standardisées\n",
            "Lignes restantes : 95340\n"
          ]
        }
      ],
      "source": [
        "def standardize_color(color):\n",
        "    \"\"\"Standardise les couleurs d'équipe en 'RED' ou 'BLUE'.\"\"\"\n",
        "    if pd.isna(color):\n",
        "        return 'UNKNOWN'\n",
        "\n",
        "    color = str(color).strip().lower()\n",
        "\n",
        "    if color in ['red', 'r', 'redteam', '🔴', 'rouge']:\n",
        "        return 'RED'\n",
        "    elif color in ['blue', 'b', 'blueteam','🔵', 'bleu']:\n",
        "        return 'BLUE'\n",
        "    elif color in ['tie', 'draw']:\n",
        "        return 'DRAW'\n",
        "    else:\n",
        "        return 'UNKNOWN'\n",
        "\n",
        "# Application\n",
        "print(\"Valeurs uniques avant standardisation :\")\n",
        "print(f\"team_color: {df['team_color'].unique()}\")\n",
        "print(f\"winner: {df['winner'].unique()}\")\n",
        "\n",
        "df['winner'] = df['winner'].apply(standardize_color)\n",
        "df['team_color'] = df['team_color'].apply(standardize_color)\n",
        "\n",
        "# Suppression des matchs inutilisables\n",
        "df = df[df['winner'] != 'UNKNOWN']\n",
        "\n",
        "print(f\"\\n✓ Couleurs standardisées\")\n",
        "print(f\"Lignes restantes : {df.shape[0]}\")"
      ]
    },
    {
      "cell_type": "markdown",
      "metadata": {
        "id": "stats"
      },
      "source": [
        "## 7. Nettoyage des statistiques joueurs\n",
        "\n",
        "Traitement des buts, assists, saves (conversion texte → nombre)"
      ]
    },
    {
      "cell_type": "code",
      "execution_count": 37,
      "metadata": {
        "colab": {
          "base_uri": "https://localhost:8080/"
        },
        "id": "stats-code",
        "outputId": "eb96d876-e44f-4628-b1dd-2f4e59c096ce"
      },
      "outputs": [
        {
          "output_type": "stream",
          "name": "stdout",
          "text": [
            "✓ Statistiques joueurs nettoyées\n",
            "\n",
            "Aperçu des statistiques :\n",
            "       player_goals  player_own_goals  player_assists  player_saves\n",
            "count  95340.000000      95340.000000    95340.000000  95340.000000\n",
            "mean       2.484959          0.029285        2.503891      4.996769\n",
            "std        2.486927          0.218080        1.709463      3.162448\n",
            "min        0.000000          0.000000        0.000000      0.000000\n",
            "25%        0.000000          0.000000        1.000000      2.000000\n",
            "50%        2.000000          0.000000        3.000000      5.000000\n",
            "75%        4.000000          0.000000        4.000000      8.000000\n",
            "max       10.000000          2.000000        5.000000     10.000000\n"
          ]
        }
      ],
      "source": [
        "def clean_player_stat(stat):\n",
        "    \"\"\"Nettoie les statistiques de joueur (buts, saves, etc.)\"\"\"\n",
        "    if pd.isna(stat):\n",
        "        return 0\n",
        "\n",
        "    stat = str(stat).strip().lower()\n",
        "\n",
        "    # Gérer les cas textuels (ex: 'two' -> 2)\n",
        "    text_to_num = {\n",
        "        'zero': 0, 'one': 1, 'two': 2,\n",
        "        'three': 3, 'four': 4, 'five': 5\n",
        "    }\n",
        "    if stat in text_to_num:\n",
        "        return text_to_num[stat]\n",
        "\n",
        "    try:\n",
        "        return int(float(stat))\n",
        "    except:\n",
        "        return 0\n",
        "\n",
        "stats_cols = ['player_goals', 'player_own_goals', 'player_assists', 'player_saves']\n",
        "for col in stats_cols:\n",
        "    df[col] = df[col].apply(clean_player_stat)\n",
        "\n",
        "print(\"✓ Statistiques joueurs nettoyées\")\n",
        "print(\"\\nAperçu des statistiques :\")\n",
        "print(df[stats_cols].describe())"
      ]
    },
    {
      "cell_type": "markdown",
      "metadata": {
        "id": "dates"
      },
      "source": [
        "## 8. Conversion des dates\n",
        "\n",
        "Parsing des dates multilingues (FR/EN) + extraction du jour de la semaine"
      ]
    },
    {
      "cell_type": "code",
      "execution_count": 38,
      "metadata": {
        "colab": {
          "base_uri": "https://localhost:8080/"
        },
        "id": "dates-code",
        "outputId": "cbd46e87-1726-4acf-c2b5-b9583510de8a"
      },
      "outputs": [
        {
          "output_type": "stream",
          "name": "stdout",
          "text": [
            "✓ Dates converties\n",
            "\n",
            "Aperçu des dates :\n",
            "    game_date DayOfWeek\n",
            "0  2023-02-06    Monday\n",
            "1  2023-03-24    Friday\n",
            "2  2025-01-13    Monday\n",
            "3  2025-11-11   Tuesday\n",
            "4  2023-09-30  Saturday\n",
            "5  2023-07-04   Tuesday\n",
            "6  2023-11-16  Thursday\n",
            "8  2023-03-20    Monday\n",
            "9  2024-02-04    Sunday\n",
            "10 2023-06-24  Saturday\n"
          ]
        }
      ],
      "source": [
        "# Dictionnaire pour traduire les mois français vers anglais\n",
        "mois_fr = {\n",
        "    \"janv\": \"jan\", \"févr\": \"feb\", \"fevr\": \"feb\", \"mars\": \"mar\", \"avr\": \"apr\",\n",
        "    \"mai\": \"may\", \"juin\": \"jun\", \"juil\": \"jul\", \"août\": \"aug\", \"aout\": \"aug\",\n",
        "    \"sept\": \"sep\", \"oct\": \"oct\", \"nov\": \"nov\", \"déc\": \"dec\", \"dec\": \"dec\"\n",
        "}\n",
        "\n",
        "def nettoyer_date(date_str):\n",
        "    if pd.isna(date_str):\n",
        "        return None\n",
        "\n",
        "    s = date_str.strip().lower()\n",
        "\n",
        "    # Supprimer suffixes anglais : 1st, 2nd, 3rd, 4th...\n",
        "    s = re.sub(r'(\\d+)(st|nd|rd|th)', r'\\1', s)\n",
        "\n",
        "    # Traduire les mois français → anglais\n",
        "    for fr, en in mois_fr.items():\n",
        "        s = re.sub(fr, en, s, flags=re.IGNORECASE)\n",
        "\n",
        "    # Uniformiser les séparateurs\n",
        "    s = re.sub(r'[-/.]', ' ', s)\n",
        "\n",
        "    try:\n",
        "        if re.match(r'^\\s*\\d{4}\\s', s):\n",
        "            parsed = parser.parse(s, yearfirst=True, dayfirst=False)\n",
        "        else:\n",
        "            parsed = parser.parse(s, dayfirst=True)\n",
        "        return parsed\n",
        "    except Exception:\n",
        "        return None\n",
        "\n",
        "df['game_date'] = df['game_date'].apply(nettoyer_date)\n",
        "df['DayOfWeek'] = df['game_date'].dt.day_name()\n",
        "\n",
        "print(\"✓ Dates converties\")\n",
        "print(\"\\nAperçu des dates :\")\n",
        "print(df[['game_date', 'DayOfWeek']].head(10))"
      ]
    },
    {
      "cell_type": "markdown",
      "metadata": {
        "id": "duration"
      },
      "source": [
        "## 9. Conversion de la durée\n",
        "\n",
        "Conversion de différents formats de durée en secondes :\n",
        "- HH:MM:SS ou MM:SS\n",
        "- \"10min\" ou \"4 min\"\n",
        "- Format décimal \"4.1\" ou \"4,1\""
      ]
    },
    {
      "cell_type": "code",
      "execution_count": 39,
      "metadata": {
        "colab": {
          "base_uri": "https://localhost:8080/"
        },
        "id": "duration-code",
        "outputId": "2e198c2f-0020-4476-a585-debcc5320036"
      },
      "outputs": [
        {
          "output_type": "stream",
          "name": "stdout",
          "text": [
            "✓ Durées converties en secondes\n",
            "Durée moyenne : 1050 secondes (17.5 minutes)\n"
          ]
        }
      ],
      "source": [
        "def duration_to_seconds(duration):\n",
        "    \"\"\"Convertit différentes représentations de durée en secondes.\"\"\"\n",
        "    if pd.isna(duration):\n",
        "        return np.nan\n",
        "\n",
        "    s = str(duration).strip().lower()\n",
        "\n",
        "    # Format HH:MM:SS ou MM:SS\n",
        "    if ':' in s:\n",
        "        try:\n",
        "            parts = list(map(int, s.split(':')))\n",
        "            if len(parts) == 3:\n",
        "                return parts[0]*3600 + parts[1]*60 + parts[2]\n",
        "            elif len(parts) == 2:\n",
        "                return parts[0]*60 + parts[1]\n",
        "        except:\n",
        "            return np.nan\n",
        "\n",
        "    # Format \"10min\", \"4 min\"\n",
        "    match_min = re.match(r'(\\d+(\\.\\d+)?|\\d+,\\d+)\\s*min', s)\n",
        "    if match_min:\n",
        "        val = match_min.group(1).replace(',', '.')\n",
        "        try:\n",
        "            return int(float(val) * 60)\n",
        "        except:\n",
        "            return np.nan\n",
        "\n",
        "    # Format décimal en minutes \"4,1\" ou \"4.1\"\n",
        "    match_decimal = re.match(r'^\\d+([.,]\\d+)?$', s)\n",
        "    if match_decimal:\n",
        "        val = s.replace(',', '.')\n",
        "        try:\n",
        "            return int(float(val) * 60)\n",
        "        except:\n",
        "            return np.nan\n",
        "\n",
        "    return np.nan\n",
        "\n",
        "df['game_duration'] = df['game_duration'].apply(duration_to_seconds)\n",
        "\n",
        "print(\"✓ Durées converties en secondes\")\n",
        "print(f\"Durée moyenne : {df['game_duration'].mean():.0f} secondes ({df['game_duration'].mean()/60:.1f} minutes)\")"
      ]
    },
    {
      "cell_type": "markdown",
      "metadata": {
        "id": "attendance"
      },
      "source": [
        "## 10. Nettoyage du nombre de participants"
      ]
    },
    {
      "cell_type": "code",
      "execution_count": 40,
      "metadata": {
        "colab": {
          "base_uri": "https://localhost:8080/"
        },
        "id": "attendance-code",
        "outputId": "d9b13fde-ac5b-45e7-a720-28a3688da3ed"
      },
      "outputs": [
        {
          "output_type": "stream",
          "name": "stdout",
          "text": [
            "✓ Nombre de participants nettoyé\n",
            "Nombre moyen de participants : 5.1\n"
          ]
        }
      ],
      "source": [
        "def clean_attendance(value):\n",
        "    \"\"\"Extrait le nombre entier du nombre de joueurs.\"\"\"\n",
        "    if pd.isna(value):\n",
        "        return np.nan\n",
        "    s = str(value).strip().lower()\n",
        "\n",
        "    # Cherche le premier nombre dans la chaîne\n",
        "    match = re.search(r'\\d+', s)\n",
        "    if match:\n",
        "        return int(match.group())\n",
        "    return np.nan\n",
        "\n",
        "# Étape 1 : nettoyer attendance_count\n",
        "df[\"attendance_count\"] = df[\"attendance_count\"].apply(clean_attendance).astype(\"Int64\")\n",
        "\n",
        "# Étape 2 : calculer le nombre de joueurs réels par match\n",
        "df[\"real_player_count\"] = df.groupby(\"game_id\")[\"player_id\"].transform(\"nunique\")\n",
        "\n",
        "# Étape 3 : corriger attendance_count si NaN ou inférieur au nombre de joueurs\n",
        "df[\"attendance_count\"] = df.apply(\n",
        "    lambda row: row[\"real_player_count\"]\n",
        "    if pd.isna(row[\"attendance_count\"]) or row[\"attendance_count\"] < row[\"real_player_count\"]\n",
        "    else row[\"attendance_count\"],\n",
        "    axis=1\n",
        ")\n",
        "\n",
        "# supprimer la colonne temporaire\n",
        "df = df.drop(columns=\"real_player_count\")\n",
        "\n",
        "print(\"✓ Nombre de participants nettoyé\")\n",
        "print(f\"Nombre moyen de participants : {df['attendance_count'].mean():.1f}\")"
      ]
    },
    {
      "cell_type": "markdown",
      "metadata": {
        "id": "age"
      },
      "source": [
        "## 11. Nettoyage des âges"
      ]
    },
    {
      "cell_type": "code",
      "execution_count": 41,
      "metadata": {
        "colab": {
          "base_uri": "https://localhost:8080/"
        },
        "id": "age-code",
        "outputId": "5c1c5d84-4174-4444-952c-57f54d799dbb"
      },
      "outputs": [
        {
          "output_type": "stream",
          "name": "stdout",
          "text": [
            "✓ Âges nettoyés\n",
            "Âge moyen : 23.8 ans\n"
          ]
        }
      ],
      "source": [
        "def nettoyer_age(age_str):\n",
        "    if pd.isna(age_str):\n",
        "        return None\n",
        "\n",
        "    s = str(age_str).lower().strip()\n",
        "\n",
        "    # Supprimer les caractères non alphanumériques (sauf espaces)\n",
        "    s = re.sub(r'[^\\w\\s]', '', s)\n",
        "\n",
        "    # Supprimer les mots inutiles\n",
        "    s = re.sub(r'\\b(yrs?|years?|ans?|yo)\\b', '', s)\n",
        "    s = s.strip()\n",
        "\n",
        "    # Si la chaîne contient un nombre → extraire le premier\n",
        "    num_match = re.search(r'\\d+', s)\n",
        "    if num_match:\n",
        "        return int(num_match.group())\n",
        "\n",
        "    # Sinon, tenter de convertir les mots anglais en nombre\n",
        "    try:\n",
        "        return w2n.word_to_num(s)\n",
        "    except Exception:\n",
        "        return None\n",
        "\n",
        "df[\"player_age\"] = df[\"player_age\"].apply(nettoyer_age).astype('Int64')\n",
        "\n",
        "print(\"✓ Âges nettoyés\")\n",
        "print(f\"Âge moyen : {df['player_age'].mean():.1f} ans\")"
      ]
    },
    {
      "cell_type": "markdown",
      "metadata": {
        "id": "other"
      },
      "source": [
        "## 12. Nettoyage des autres colonnes\n",
        "\n",
        "Standardisation de :\n",
        "- Location\n",
        "- Player Role\n",
        "- Referee\n",
        "- Season"
      ]
    },
    {
      "cell_type": "code",
      "execution_count": 42,
      "metadata": {
        "colab": {
          "base_uri": "https://localhost:8080/"
        },
        "id": "other-code",
        "outputId": "3210e45e-7db2-4bd3-8b54-bc9c2f791d37"
      },
      "outputs": [
        {
          "output_type": "stream",
          "name": "stdout",
          "text": [
            "✓ Colonnes standardisées\n",
            "\n",
            "Locations : ['YNOV TOULOUSE' 'CAFETERIA (1ST FLOOR)' 'GYM HALL' 'SALLE POLYVALENTE'\n",
            " 'CAMPUS - CAFETERIA' 'BAR LE FOOS' 'STUDENT HOUSE' 'LAB 204']\n",
            "Rôles : ['DEFENSE' 'ATTACK']\n",
            "Saisons : ['2023/2024' '2024/2025' '2025']\n"
          ]
        }
      ],
      "source": [
        "# Location\n",
        "df['location'] = (df['location']\n",
        "    .str.strip()\n",
        "    .str.upper()\n",
        "    .replace(['TOULOUSE','YNOV TLS', 'YNOV - BÂTIMENT A','YNOV_TLS'], 'YNOV TOULOUSE')\n",
        "    .fillna('UNKNOWN'))\n",
        "\n",
        "# Player Role\n",
        "df['player_role'] = (df['player_role']\n",
        "    .str.strip()\n",
        "    .str.upper()\n",
        "    .replace(['DEF','DEFENCE'], 'DEFENSE')\n",
        "    .replace(['ATT', 'ATTCK'], 'ATTACK')\n",
        "    .fillna('UNKNOWN'))\n",
        "\n",
        "# Referee\n",
        "df['referee'] = (df['referee']\n",
        "    .str.strip()\n",
        "    .str.upper()\n",
        "    .replace(['YES','NO', 'PLAYER1'], 'NONE')\n",
        "    .fillna('NONE'))\n",
        "\n",
        "# Season\n",
        "df['season'] = (df['season']\n",
        "    .str.strip()\n",
        "    .replace(['s24/25','Season 24-25'], '2024/2025')\n",
        "    .replace('2025 Season', '2025'))\n",
        "\n",
        "print(\"✓ Colonnes standardisées\")\n",
        "print(f\"\\nLocations : {df['location'].unique()}\")\n",
        "print(f\"Rôles : {df['player_role'].unique()}\")\n",
        "print(f\"Saisons : {df['season'].unique()}\")"
      ]
    },
    {
      "cell_type": "markdown",
      "metadata": {
        "id": "rating"
      },
      "source": [
        "## 13. Standardisation des ratings\n",
        "\n",
        "Conversion des ratings en échelle numérique (1-5)"
      ]
    },
    {
      "cell_type": "code",
      "execution_count": 43,
      "metadata": {
        "colab": {
          "base_uri": "https://localhost:8080/"
        },
        "id": "rating-code",
        "outputId": "6a8c345c-c8aa-4301-e6e9-7f978284e348"
      },
      "outputs": [
        {
          "output_type": "stream",
          "name": "stdout",
          "text": [
            "✓ Ratings standardisés\n"
          ]
        }
      ],
      "source": [
        "def standardize_rating(rating):\n",
        "    \"\"\"Convertit le rating en une échelle numérique (1-5).\"\"\"\n",
        "    if pd.isna(rating):\n",
        "        return np.nan\n",
        "\n",
        "    rating = str(rating).strip().lower()\n",
        "\n",
        "    # Mapping des symboles et mots-clés\n",
        "    if '⭐⭐⭐⭐⭐' in rating or 'five' in rating:\n",
        "        return 5\n",
        "    elif '⭐⭐⭐⭐' in rating or 'four' in rating or '🙂' in rating:\n",
        "        return 4\n",
        "    elif '⭐⭐⭐' in rating or 'three' in rating or '😐' in rating:\n",
        "        return 3\n",
        "    elif '⭐⭐' in rating or 'two' in rating:\n",
        "        return 2\n",
        "    elif '⭐' in rating or 'one' in rating or '😡' in rating:\n",
        "        return 1\n",
        "\n",
        "    # Conversion simple pour les notes numériques directes\n",
        "    try:\n",
        "        val = float(rating)\n",
        "        return val if 1 <= val <= 5 else np.nan\n",
        "    except:\n",
        "        return np.nan\n",
        "\n",
        "df['rating_raw'] = df['rating_raw'].apply(standardize_rating).astype('Int64')\n",
        "\n",
        "print(\"✓ Ratings standardisés\")"
      ]
    },
    {
      "cell_type": "markdown",
      "metadata": {
        "id": "overview"
      },
      "source": [
        "## 14. Aperçu du dataset nettoyé"
      ]
    },
    {
      "cell_type": "code",
      "execution_count": 44,
      "metadata": {
        "colab": {
          "base_uri": "https://localhost:8080/",
          "height": 608
        },
        "id": "overview-code",
        "outputId": "a9a1bbf2-f836-48c1-8bf1-7836049e6204"
      },
      "outputs": [
        {
          "output_type": "stream",
          "name": "stdout",
          "text": [
            "======================================================================\n",
            "APERÇU DU DATASET NETTOYÉ\n",
            "======================================================================\n",
            "\n",
            "Dimensions : 95340 lignes × 36 colonnes\n",
            "\n",
            "Nombre de matchs uniques : 23835\n",
            "\n",
            "Nombre de joueurs uniques : 800\n",
            "\n",
            "Période couverte : 2023-01-01 00:00:00 → 2025-12-31 00:00:00\n",
            "\n",
            "======================================================================\n"
          ]
        },
        {
          "output_type": "execute_result",
          "data": {
            "text/plain": [
              "   game_id  game_date               location table_id table_condition  \\\n",
              "0  G015295 2023-02-06          YNOV TOULOUSE      T05     beer stains   \n",
              "1  G023800 2023-03-24  CAFETERIA (1ST FLOOR)      T07            worn   \n",
              "2  G023577 2025-01-13               GYM HALL      T26       scratched   \n",
              "3  G020644 2025-11-11      SALLE POLYVALENTE      T21            worn   \n",
              "4  G011677 2023-09-30     CAMPUS - CAFETERIA      T26   missing screw   \n",
              "\n",
              "      ball_type                      music_playing          referee  \\\n",
              "0           NaN  Spotify: Queen - We Will Rock You         PAUL KIM   \n",
              "1           NaN                     Indie playlist             NONE   \n",
              "2           NaN  Spotify: Queen - We Will Rock You     LENA CLEMENT   \n",
              "3     mini ball                            EDM mix  ISABELLA GIRARD   \n",
              "4  trainer ball                         Oldies 80s             NONE   \n",
              "\n",
              "   game_duration  final_score_red  ...  mood    player_comment  team_color  \\\n",
              "0            747                0  ...     1        ref biased         RED   \n",
              "1            514               10  ...     🙂               NaN        BLUE   \n",
              "2           1032                2  ...     2               NaN         RED   \n",
              "3            310                6  ...     3  team spirit high        BLUE   \n",
              "4            360                3  ...     😂         rage quit         RED   \n",
              "\n",
              "  is_substitute ping_ms          notes duplicate_flag misc  \\\n",
              "0           yes     185        injured            NaN  NaN   \n",
              "1           yes     NaN            NaN              0    -   \n",
              "2            no     NaN  double booked              0  NaN   \n",
              "3         maybe     NaN  double booked            NaN    -   \n",
              "4           yes     NaN            NaN            NaN  NaN   \n",
              "\n",
              "            created_at  DayOfWeek  \n",
              "0  2025-10-02T10:41:54     Monday  \n",
              "1  2025-10-02T10:41:55     Friday  \n",
              "2  2025-10-02T10:41:55     Monday  \n",
              "3  2025-10-02T10:41:54    Tuesday  \n",
              "4  2025-10-02T10:41:54   Saturday  \n",
              "\n",
              "[5 rows x 36 columns]"
            ],
            "text/html": [
              "\n",
              "  <div id=\"df-550baf59-3d5d-4632-8c93-7a6b1b52d54d\" class=\"colab-df-container\">\n",
              "    <div>\n",
              "<style scoped>\n",
              "    .dataframe tbody tr th:only-of-type {\n",
              "        vertical-align: middle;\n",
              "    }\n",
              "\n",
              "    .dataframe tbody tr th {\n",
              "        vertical-align: top;\n",
              "    }\n",
              "\n",
              "    .dataframe thead th {\n",
              "        text-align: right;\n",
              "    }\n",
              "</style>\n",
              "<table border=\"1\" class=\"dataframe\">\n",
              "  <thead>\n",
              "    <tr style=\"text-align: right;\">\n",
              "      <th></th>\n",
              "      <th>game_id</th>\n",
              "      <th>game_date</th>\n",
              "      <th>location</th>\n",
              "      <th>table_id</th>\n",
              "      <th>table_condition</th>\n",
              "      <th>ball_type</th>\n",
              "      <th>music_playing</th>\n",
              "      <th>referee</th>\n",
              "      <th>game_duration</th>\n",
              "      <th>final_score_red</th>\n",
              "      <th>...</th>\n",
              "      <th>mood</th>\n",
              "      <th>player_comment</th>\n",
              "      <th>team_color</th>\n",
              "      <th>is_substitute</th>\n",
              "      <th>ping_ms</th>\n",
              "      <th>notes</th>\n",
              "      <th>duplicate_flag</th>\n",
              "      <th>misc</th>\n",
              "      <th>created_at</th>\n",
              "      <th>DayOfWeek</th>\n",
              "    </tr>\n",
              "  </thead>\n",
              "  <tbody>\n",
              "    <tr>\n",
              "      <th>0</th>\n",
              "      <td>G015295</td>\n",
              "      <td>2023-02-06</td>\n",
              "      <td>YNOV TOULOUSE</td>\n",
              "      <td>T05</td>\n",
              "      <td>beer stains</td>\n",
              "      <td>NaN</td>\n",
              "      <td>Spotify: Queen - We Will Rock You</td>\n",
              "      <td>PAUL KIM</td>\n",
              "      <td>747</td>\n",
              "      <td>0</td>\n",
              "      <td>...</td>\n",
              "      <td>1</td>\n",
              "      <td>ref biased</td>\n",
              "      <td>RED</td>\n",
              "      <td>yes</td>\n",
              "      <td>185</td>\n",
              "      <td>injured</td>\n",
              "      <td>NaN</td>\n",
              "      <td>NaN</td>\n",
              "      <td>2025-10-02T10:41:54</td>\n",
              "      <td>Monday</td>\n",
              "    </tr>\n",
              "    <tr>\n",
              "      <th>1</th>\n",
              "      <td>G023800</td>\n",
              "      <td>2023-03-24</td>\n",
              "      <td>CAFETERIA (1ST FLOOR)</td>\n",
              "      <td>T07</td>\n",
              "      <td>worn</td>\n",
              "      <td>NaN</td>\n",
              "      <td>Indie playlist</td>\n",
              "      <td>NONE</td>\n",
              "      <td>514</td>\n",
              "      <td>10</td>\n",
              "      <td>...</td>\n",
              "      <td>🙂</td>\n",
              "      <td>NaN</td>\n",
              "      <td>BLUE</td>\n",
              "      <td>yes</td>\n",
              "      <td>NaN</td>\n",
              "      <td>NaN</td>\n",
              "      <td>0</td>\n",
              "      <td>-</td>\n",
              "      <td>2025-10-02T10:41:55</td>\n",
              "      <td>Friday</td>\n",
              "    </tr>\n",
              "    <tr>\n",
              "      <th>2</th>\n",
              "      <td>G023577</td>\n",
              "      <td>2025-01-13</td>\n",
              "      <td>GYM HALL</td>\n",
              "      <td>T26</td>\n",
              "      <td>scratched</td>\n",
              "      <td>NaN</td>\n",
              "      <td>Spotify: Queen - We Will Rock You</td>\n",
              "      <td>LENA CLEMENT</td>\n",
              "      <td>1032</td>\n",
              "      <td>2</td>\n",
              "      <td>...</td>\n",
              "      <td>2</td>\n",
              "      <td>NaN</td>\n",
              "      <td>RED</td>\n",
              "      <td>no</td>\n",
              "      <td>NaN</td>\n",
              "      <td>double booked</td>\n",
              "      <td>0</td>\n",
              "      <td>NaN</td>\n",
              "      <td>2025-10-02T10:41:55</td>\n",
              "      <td>Monday</td>\n",
              "    </tr>\n",
              "    <tr>\n",
              "      <th>3</th>\n",
              "      <td>G020644</td>\n",
              "      <td>2025-11-11</td>\n",
              "      <td>SALLE POLYVALENTE</td>\n",
              "      <td>T21</td>\n",
              "      <td>worn</td>\n",
              "      <td>mini ball</td>\n",
              "      <td>EDM mix</td>\n",
              "      <td>ISABELLA GIRARD</td>\n",
              "      <td>310</td>\n",
              "      <td>6</td>\n",
              "      <td>...</td>\n",
              "      <td>3</td>\n",
              "      <td>team spirit high</td>\n",
              "      <td>BLUE</td>\n",
              "      <td>maybe</td>\n",
              "      <td>NaN</td>\n",
              "      <td>double booked</td>\n",
              "      <td>NaN</td>\n",
              "      <td>-</td>\n",
              "      <td>2025-10-02T10:41:54</td>\n",
              "      <td>Tuesday</td>\n",
              "    </tr>\n",
              "    <tr>\n",
              "      <th>4</th>\n",
              "      <td>G011677</td>\n",
              "      <td>2023-09-30</td>\n",
              "      <td>CAMPUS - CAFETERIA</td>\n",
              "      <td>T26</td>\n",
              "      <td>missing screw</td>\n",
              "      <td>trainer ball</td>\n",
              "      <td>Oldies 80s</td>\n",
              "      <td>NONE</td>\n",
              "      <td>360</td>\n",
              "      <td>3</td>\n",
              "      <td>...</td>\n",
              "      <td>😂</td>\n",
              "      <td>rage quit</td>\n",
              "      <td>RED</td>\n",
              "      <td>yes</td>\n",
              "      <td>NaN</td>\n",
              "      <td>NaN</td>\n",
              "      <td>NaN</td>\n",
              "      <td>NaN</td>\n",
              "      <td>2025-10-02T10:41:54</td>\n",
              "      <td>Saturday</td>\n",
              "    </tr>\n",
              "  </tbody>\n",
              "</table>\n",
              "<p>5 rows × 36 columns</p>\n",
              "</div>\n",
              "    <div class=\"colab-df-buttons\">\n",
              "\n",
              "  <div class=\"colab-df-container\">\n",
              "    <button class=\"colab-df-convert\" onclick=\"convertToInteractive('df-550baf59-3d5d-4632-8c93-7a6b1b52d54d')\"\n",
              "            title=\"Convert this dataframe to an interactive table.\"\n",
              "            style=\"display:none;\">\n",
              "\n",
              "  <svg xmlns=\"http://www.w3.org/2000/svg\" height=\"24px\" viewBox=\"0 -960 960 960\">\n",
              "    <path d=\"M120-120v-720h720v720H120Zm60-500h600v-160H180v160Zm220 220h160v-160H400v160Zm0 220h160v-160H400v160ZM180-400h160v-160H180v160Zm440 0h160v-160H620v160ZM180-180h160v-160H180v160Zm440 0h160v-160H620v160Z\"/>\n",
              "  </svg>\n",
              "    </button>\n",
              "\n",
              "  <style>\n",
              "    .colab-df-container {\n",
              "      display:flex;\n",
              "      gap: 12px;\n",
              "    }\n",
              "\n",
              "    .colab-df-convert {\n",
              "      background-color: #E8F0FE;\n",
              "      border: none;\n",
              "      border-radius: 50%;\n",
              "      cursor: pointer;\n",
              "      display: none;\n",
              "      fill: #1967D2;\n",
              "      height: 32px;\n",
              "      padding: 0 0 0 0;\n",
              "      width: 32px;\n",
              "    }\n",
              "\n",
              "    .colab-df-convert:hover {\n",
              "      background-color: #E2EBFA;\n",
              "      box-shadow: 0px 1px 2px rgba(60, 64, 67, 0.3), 0px 1px 3px 1px rgba(60, 64, 67, 0.15);\n",
              "      fill: #174EA6;\n",
              "    }\n",
              "\n",
              "    .colab-df-buttons div {\n",
              "      margin-bottom: 4px;\n",
              "    }\n",
              "\n",
              "    [theme=dark] .colab-df-convert {\n",
              "      background-color: #3B4455;\n",
              "      fill: #D2E3FC;\n",
              "    }\n",
              "\n",
              "    [theme=dark] .colab-df-convert:hover {\n",
              "      background-color: #434B5C;\n",
              "      box-shadow: 0px 1px 3px 1px rgba(0, 0, 0, 0.15);\n",
              "      filter: drop-shadow(0px 1px 2px rgba(0, 0, 0, 0.3));\n",
              "      fill: #FFFFFF;\n",
              "    }\n",
              "  </style>\n",
              "\n",
              "    <script>\n",
              "      const buttonEl =\n",
              "        document.querySelector('#df-550baf59-3d5d-4632-8c93-7a6b1b52d54d button.colab-df-convert');\n",
              "      buttonEl.style.display =\n",
              "        google.colab.kernel.accessAllowed ? 'block' : 'none';\n",
              "\n",
              "      async function convertToInteractive(key) {\n",
              "        const element = document.querySelector('#df-550baf59-3d5d-4632-8c93-7a6b1b52d54d');\n",
              "        const dataTable =\n",
              "          await google.colab.kernel.invokeFunction('convertToInteractive',\n",
              "                                                    [key], {});\n",
              "        if (!dataTable) return;\n",
              "\n",
              "        const docLinkHtml = 'Like what you see? Visit the ' +\n",
              "          '<a target=\"_blank\" href=https://colab.research.google.com/notebooks/data_table.ipynb>data table notebook</a>'\n",
              "          + ' to learn more about interactive tables.';\n",
              "        element.innerHTML = '';\n",
              "        dataTable['output_type'] = 'display_data';\n",
              "        await google.colab.output.renderOutput(dataTable, element);\n",
              "        const docLink = document.createElement('div');\n",
              "        docLink.innerHTML = docLinkHtml;\n",
              "        element.appendChild(docLink);\n",
              "      }\n",
              "    </script>\n",
              "  </div>\n",
              "\n",
              "\n",
              "    <div id=\"df-e6be24e9-b2bf-402e-8aa3-d268d6abc301\">\n",
              "      <button class=\"colab-df-quickchart\" onclick=\"quickchart('df-e6be24e9-b2bf-402e-8aa3-d268d6abc301')\"\n",
              "                title=\"Suggest charts\"\n",
              "                style=\"display:none;\">\n",
              "\n",
              "<svg xmlns=\"http://www.w3.org/2000/svg\" height=\"24px\"viewBox=\"0 0 24 24\"\n",
              "     width=\"24px\">\n",
              "    <g>\n",
              "        <path d=\"M19 3H5c-1.1 0-2 .9-2 2v14c0 1.1.9 2 2 2h14c1.1 0 2-.9 2-2V5c0-1.1-.9-2-2-2zM9 17H7v-7h2v7zm4 0h-2V7h2v10zm4 0h-2v-4h2v4z\"/>\n",
              "    </g>\n",
              "</svg>\n",
              "      </button>\n",
              "\n",
              "<style>\n",
              "  .colab-df-quickchart {\n",
              "      --bg-color: #E8F0FE;\n",
              "      --fill-color: #1967D2;\n",
              "      --hover-bg-color: #E2EBFA;\n",
              "      --hover-fill-color: #174EA6;\n",
              "      --disabled-fill-color: #AAA;\n",
              "      --disabled-bg-color: #DDD;\n",
              "  }\n",
              "\n",
              "  [theme=dark] .colab-df-quickchart {\n",
              "      --bg-color: #3B4455;\n",
              "      --fill-color: #D2E3FC;\n",
              "      --hover-bg-color: #434B5C;\n",
              "      --hover-fill-color: #FFFFFF;\n",
              "      --disabled-bg-color: #3B4455;\n",
              "      --disabled-fill-color: #666;\n",
              "  }\n",
              "\n",
              "  .colab-df-quickchart {\n",
              "    background-color: var(--bg-color);\n",
              "    border: none;\n",
              "    border-radius: 50%;\n",
              "    cursor: pointer;\n",
              "    display: none;\n",
              "    fill: var(--fill-color);\n",
              "    height: 32px;\n",
              "    padding: 0;\n",
              "    width: 32px;\n",
              "  }\n",
              "\n",
              "  .colab-df-quickchart:hover {\n",
              "    background-color: var(--hover-bg-color);\n",
              "    box-shadow: 0 1px 2px rgba(60, 64, 67, 0.3), 0 1px 3px 1px rgba(60, 64, 67, 0.15);\n",
              "    fill: var(--button-hover-fill-color);\n",
              "  }\n",
              "\n",
              "  .colab-df-quickchart-complete:disabled,\n",
              "  .colab-df-quickchart-complete:disabled:hover {\n",
              "    background-color: var(--disabled-bg-color);\n",
              "    fill: var(--disabled-fill-color);\n",
              "    box-shadow: none;\n",
              "  }\n",
              "\n",
              "  .colab-df-spinner {\n",
              "    border: 2px solid var(--fill-color);\n",
              "    border-color: transparent;\n",
              "    border-bottom-color: var(--fill-color);\n",
              "    animation:\n",
              "      spin 1s steps(1) infinite;\n",
              "  }\n",
              "\n",
              "  @keyframes spin {\n",
              "    0% {\n",
              "      border-color: transparent;\n",
              "      border-bottom-color: var(--fill-color);\n",
              "      border-left-color: var(--fill-color);\n",
              "    }\n",
              "    20% {\n",
              "      border-color: transparent;\n",
              "      border-left-color: var(--fill-color);\n",
              "      border-top-color: var(--fill-color);\n",
              "    }\n",
              "    30% {\n",
              "      border-color: transparent;\n",
              "      border-left-color: var(--fill-color);\n",
              "      border-top-color: var(--fill-color);\n",
              "      border-right-color: var(--fill-color);\n",
              "    }\n",
              "    40% {\n",
              "      border-color: transparent;\n",
              "      border-right-color: var(--fill-color);\n",
              "      border-top-color: var(--fill-color);\n",
              "    }\n",
              "    60% {\n",
              "      border-color: transparent;\n",
              "      border-right-color: var(--fill-color);\n",
              "    }\n",
              "    80% {\n",
              "      border-color: transparent;\n",
              "      border-right-color: var(--fill-color);\n",
              "      border-bottom-color: var(--fill-color);\n",
              "    }\n",
              "    90% {\n",
              "      border-color: transparent;\n",
              "      border-bottom-color: var(--fill-color);\n",
              "    }\n",
              "  }\n",
              "</style>\n",
              "\n",
              "      <script>\n",
              "        async function quickchart(key) {\n",
              "          const quickchartButtonEl =\n",
              "            document.querySelector('#' + key + ' button');\n",
              "          quickchartButtonEl.disabled = true;  // To prevent multiple clicks.\n",
              "          quickchartButtonEl.classList.add('colab-df-spinner');\n",
              "          try {\n",
              "            const charts = await google.colab.kernel.invokeFunction(\n",
              "                'suggestCharts', [key], {});\n",
              "          } catch (error) {\n",
              "            console.error('Error during call to suggestCharts:', error);\n",
              "          }\n",
              "          quickchartButtonEl.classList.remove('colab-df-spinner');\n",
              "          quickchartButtonEl.classList.add('colab-df-quickchart-complete');\n",
              "        }\n",
              "        (() => {\n",
              "          let quickchartButtonEl =\n",
              "            document.querySelector('#df-e6be24e9-b2bf-402e-8aa3-d268d6abc301 button');\n",
              "          quickchartButtonEl.style.display =\n",
              "            google.colab.kernel.accessAllowed ? 'block' : 'none';\n",
              "        })();\n",
              "      </script>\n",
              "    </div>\n",
              "\n",
              "    </div>\n",
              "  </div>\n"
            ],
            "application/vnd.google.colaboratory.intrinsic+json": {
              "type": "dataframe",
              "variable_name": "df"
            }
          },
          "metadata": {},
          "execution_count": 44
        }
      ],
      "source": [
        "print(\"=\" * 70)\n",
        "print(\"APERÇU DU DATASET NETTOYÉ\")\n",
        "print(\"=\" * 70)\n",
        "\n",
        "print(f\"\\nDimensions : {df.shape[0]} lignes × {df.shape[1]} colonnes\")\n",
        "print(f\"\\nNombre de matchs uniques : {df['game_id'].nunique()}\")\n",
        "print(f\"\\nNombre de joueurs uniques : {df['player_id'].nunique()}\")\n",
        "print(f\"\\nPériode couverte : {df['game_date'].min()} → {df['game_date'].max()}\")\n",
        "\n",
        "print(\"\\n\" + \"=\" * 70)\n",
        "df.head()"
      ]
    },
    {
      "cell_type": "markdown",
      "metadata": {
        "id": "export"
      },
      "source": [
        "## 15. Exportation du dataset nettoyé"
      ]
    },
    {
      "cell_type": "code",
      "execution_count": 45,
      "metadata": {
        "colab": {
          "base_uri": "https://localhost:8080/"
        },
        "id": "2DlgCrbi1DHt",
        "outputId": "7154edd9-06fb-4998-c81d-711fddc6eb2a"
      },
      "outputs": [
        {
          "output_type": "stream",
          "name": "stdout",
          "text": [
            "NETTOYAGE TERMINÉ\n",
            "\n",
            "Lignes finales : 95340\n",
            "\n",
            "Fichier exporté : dataset_Ynov_babyfoot_CLEAN.csv\n"
          ]
        }
      ],
      "source": [
        "# Sélection des colonnes finales\n",
        "colonnes_finales = [\n",
        "    'game_id', 'game_date', 'DayOfWeek', 'location', 'game_duration',\n",
        "    'final_score_red', 'final_score_blue', 'winner',\n",
        "    'player_id', 'player_canonical_name', 'team_color', 'player_role',\n",
        "    'player_goals', 'player_own_goals', 'player_assists', 'player_saves',\n",
        "    'referee', 'attendance_count', 'season', 'recorded_by', 'rating_raw',\n",
        "    'player_comment', 'player_age'\n",
        "]\n",
        "\n",
        "# Création du dataset final\n",
        "df_clean = df.filter(items=colonnes_finales).copy()\n",
        "\n",
        "# Enregistrement du fichier\n",
        "df_clean.to_csv('dataset_Ynov_babyfoot_CLEAN.csv', index=False)\n",
        "\n",
        "print(\"NETTOYAGE TERMINÉ\")\n",
        "print(f\"\\nLignes finales : {df_clean.shape[0]}\")\n",
        "print(f\"\\nFichier exporté : dataset_Ynov_babyfoot_CLEAN.csv\")"
      ]
    },
    {
      "cell_type": "markdown",
      "metadata": {
        "id": "AAuJVash1DHt"
      },
      "source": [
        "## 📝 Résumé des transformations\n",
        "\n",
        "### Transformations effectuées :\n",
        "\n",
        "1. **Doublons et valeurs manquantes** : Suppression des lignes avec IDs critiques manquants\n",
        "2. **Scores** : Normalisation du format 'x - y' et validation (0-10)\n",
        "3. **Couleurs** : Standardisation RED/BLUE/DRAW\n",
        "4. **Statistiques joueurs** : Conversion texte → nombre (buts, assists, saves)\n",
        "5. **Dates** : Parsing multilingue FR/EN + extraction du jour de la semaine\n",
        "6. **Durées** : Conversion en secondes (formats HH:MM:SS, \"Xmin\", décimal)\n",
        "7. **Participants** : Extraction du nombre de joueurs\n",
        "8. **Âges** : Nettoyage et conversion en nombre\n",
        "9. **Localisation** : Standardisation des lieux\n",
        "10. **Rôles** : Uniformisation ATTACK/DEFENSE\n",
        "11. **Arbitres** : Normalisation\n",
        "12. **Saisons** : Standardisation du format\n",
        "13. **Ratings** : Conversion en échelle 1-5\n",
        "\n",
        "###  Dataset prêt pour l'analyse et la modélisation IA !\n",
        "\n",
        "Le fichier `dataset_Ynov_babyfoot_CLEAN.csv` peut maintenant être utilisé pour :\n",
        "- Analyse exploratoire des données (EDA)\n",
        "- Visualisations statistiques\n",
        "- Modélisation prédictive\n",
        "- Analyse des performances joueurs\n",
        "- Détection de patterns de jeu"
      ]
    }
  ],
  "metadata": {
    "colab": {
      "provenance": []
    },
    "kernelspec": {
      "display_name": "Python 3",
      "name": "python3"
    },
    "language_info": {
      "name": "python"
    }
  },
  "nbformat": 4,
  "nbformat_minor": 0
}