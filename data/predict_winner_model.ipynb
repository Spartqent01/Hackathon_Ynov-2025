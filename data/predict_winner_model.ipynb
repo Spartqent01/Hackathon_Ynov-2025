{
  "nbformat": 4,
  "nbformat_minor": 0,
  "metadata": {
    "colab": {
      "provenance": []
    },
    "kernelspec": {
      "name": "python3",
      "display_name": "Python 3"
    },
    "language_info": {
      "name": "python"
    }
  },
  "cells": [
    {
      "cell_type": "markdown",
      "source": [
        "# Prédiction de l'équipe gagnante"
      ],
      "metadata": {
        "id": "-UAfi_1zRnUy"
      }
    },
    {
      "cell_type": "code",
      "execution_count": 7,
      "metadata": {
        "colab": {
          "base_uri": "https://localhost:8080/",
          "height": 485
        },
        "id": "HFz0hExDKqNF",
        "outputId": "743d4c7c-fdcc-46ba-c500-9c66d1b70400"
      },
      "outputs": [
        {
          "output_type": "stream",
          "name": "stdout",
          "text": [
            "Précision du modèle : 0.46\n"
          ]
        },
        {
          "output_type": "display_data",
          "data": {
            "text/plain": [
              "<Figure size 640x480 with 2 Axes>"
            ],
            "image/png": "[encoded data removed]"
          },
          "metadata": {}
        },
        {
          "output_type": "execute_result",
          "data": {
            "text/plain": [
              "['predict_winner_model.pkl']"
            ]
          },
          "metadata": {},
          "execution_count": 7
        }
      ],
      "source": [
        "import pandas as pd\n",
        "from sklearn.model_selection import train_test_split\n",
        "from sklearn.preprocessing import LabelEncoder\n",
        "from xgboost import XGBClassifier\n",
        "from sklearn.metrics import accuracy_score, confusion_matrix, ConfusionMatrixDisplay\n",
        "import matplotlib.pyplot as plt\n",
        "import joblib\n",
        "\n",
        "# Charger les données\n",
        "data = pd.read_csv(\"/content/dataset_Ynov_babyfoot_CLEAN (14).csv\")\n",
        "num_cols = ['player_goals', 'player_own_goals', 'player_assists', 'player_saves', 'player_age']\n",
        "for c in num_cols:\n",
        "    data[c] = pd.to_numeric(data[c], errors='coerce').fillna(0)\n",
        "\n",
        "# Calcul des stats historiques par joueur\n",
        "data['game_date'] = pd.to_datetime(data['game_date'])\n",
        "data = data.sort_values(by='game_date')  # Trier par date\n",
        "\n",
        "stats_cols = ['player_goals', 'player_own_goals', 'player_assists', 'player_saves']\n",
        "\n",
        "for col in stats_cols:\n",
        "    # cumul des stats jusqu'au match précédent\n",
        "    data[f'hist_{col}'] = data.groupby('player_id')[col].cumsum() - data[col]\n",
        "\n",
        "# Agrégation des stats historiques par équipe\n",
        "agg_funcs = {\n",
        "    'hist_player_goals': 'sum',\n",
        "    'hist_player_own_goals': 'sum',\n",
        "    'hist_player_assists': 'sum',\n",
        "    'hist_player_saves': 'sum',\n",
        "    'player_age': 'mean'\n",
        "}\n",
        "\n",
        "team_stats = data.groupby(['game_id', 'team_color']).agg(agg_funcs).reset_index()\n",
        "\n",
        "# Séparer RED et BLUE\n",
        "red_stats = team_stats[team_stats['team_color'] == 'RED'].add_prefix('red_')\n",
        "blue_stats = team_stats[team_stats['team_color'] == 'BLUE'].add_prefix('blue_')\n",
        "\n",
        "# Fusionner pour créer une ligne par match\n",
        "match_features = pd.merge(red_stats, blue_stats, left_on='red_game_id', right_on='blue_game_id')\n",
        "\n",
        "# Ajouter la cible (winner)\n",
        "match_results = data[['game_id', 'winner']].drop_duplicates()\n",
        "match_df = pd.merge(match_features, match_results, left_on='red_game_id', right_on='game_id')\n",
        "\n",
        "# Préparer X et y\n",
        "X = match_df.drop(columns=['red_game_id', 'blue_game_id', 'game_id', 'winner',\n",
        "                           'red_team_color', 'blue_team_color'])\n",
        "y = match_df['winner']\n",
        "\n",
        "# Encodage de la cible\n",
        "le = LabelEncoder()\n",
        "y_encoded = le.fit_transform(y)\n",
        "\n",
        "# Split et entraînement du modèle\n",
        "X_train, X_test, y_train, y_test = train_test_split(X, y_encoded, test_size=0.2, random_state=42)\n",
        "\n",
        "model = XGBClassifier(\n",
        "    n_estimators=100,\n",
        "    max_depth=4,\n",
        "    learning_rate=0.1,\n",
        "    subsample=0.8,\n",
        "    random_state=42\n",
        ")\n",
        "\n",
        "model.fit(X_train, y_train)\n",
        "\n",
        "# Évaluation\n",
        "y_pred = model.predict(X_test)\n",
        "acc = accuracy_score(y_test, y_pred)\n",
        "print(f\"Précision du modèle : {acc:.2f}\")\n",
        "\n",
        "cm = confusion_matrix(y_test, y_pred)\n",
        "disp = ConfusionMatrixDisplay(confusion_matrix=cm, display_labels=le.classes_)\n",
        "disp.plot(cmap='Blues')\n",
        "plt.show()\n",
        "\n",
        "# Sauvegarde du modèle\n",
        "joblib.dump(model, \"predict_winner_model.pkl\")"
      ]
    },
    {
      "cell_type": "markdown",
      "source": [
        "# Test de la prédiction à partir de matchs fictifs"
      ],
      "metadata": {
        "id": "68-V5nlfR7L1"
      }
    },
    {
      "cell_type": "code",
      "source": [
        "import pandas as pd\n",
        "import joblib\n",
        "from sklearn.preprocessing import LabelEncoder\n",
        "\n",
        "# Supposons 2 matchs fictifs avec stats historiques des joueurs par équipe\n",
        "data_test = pd.DataFrame({\n",
        "    'red_hist_player_goals': [5, 2],\n",
        "    'red_hist_player_own_goals': [0, 1],\n",
        "    'red_hist_player_assists': [7, 3],\n",
        "    'red_hist_player_saves': [4, 2],\n",
        "    'red_player_age': [24, 26],\n",
        "\n",
        "    'blue_hist_player_goals': [3, 6],\n",
        "    'blue_hist_player_own_goals': [1, 0],\n",
        "    'blue_hist_player_assists': [5, 6],\n",
        "    'blue_hist_player_saves': [3, 5],\n",
        "    'blue_player_age': [25, 23]\n",
        "})\n",
        "\n",
        "# Charger le modèle entraîné\n",
        "model = joblib.load(\"predict_winner_model.pkl\")\n",
        "\n",
        "# Encodage pour correspondre aux labels\n",
        "le = LabelEncoder()\n",
        "le.fit(['RED', 'BLUE'])\n",
        "\n",
        "# Prédiction\n",
        "y_pred_test = model.predict(data_test)\n",
        "pred_labels = le.inverse_transform(y_pred_test)\n",
        "\n",
        "print(\"Prédictions sur le jeu de test factice :\")\n",
        "for i, label in enumerate(pred_labels):\n",
        "    print(f\"Match test {i+1}: {label}\")\n"
      ],
      "metadata": {
        "colab": {
          "base_uri": "https://localhost:8080/"
        },
        "id": "qtfd-4cRRKWA",
        "outputId": "4b1b42f3-2ec7-4e0e-be0d-d7337a6986fa"
      },
      "execution_count": 9,
      "outputs": [
        {
          "output_type": "stream",
          "name": "stdout",
          "text": [
            "Prédictions sur le jeu de test factice :\n",
            "Match test 1: BLUE\n",
            "Match test 2: BLUE\n"
          ]
        }
      ]
    }
  ]
}